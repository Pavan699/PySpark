{
 "cells": [
  {
   "cell_type": "code",
   "execution_count": 1,
   "metadata": {},
   "outputs": [],
   "source": [
    "import findspark\n",
    "findspark.init()"
   ]
  },
  {
   "cell_type": "code",
   "execution_count": 2,
   "metadata": {},
   "outputs": [
    {
     "name": "stderr",
     "output_type": "stream",
     "text": [
      "22/01/20 22:16:22 WARN Utils: Your hostname, pavanlinux resolves to a loopback address: 127.0.0.1; using 10.0.2.15 instead (on interface enp0s3)\n",
      "22/01/20 22:16:22 WARN Utils: Set SPARK_LOCAL_IP if you need to bind to another address\n",
      "22/01/20 22:16:23 WARN NativeCodeLoader: Unable to load native-hadoop library for your platform... using builtin-java classes where applicable\n",
      "Using Spark's default log4j profile: org/apache/spark/log4j-defaults.properties\n",
      "Setting default log level to \"WARN\".\n",
      "To adjust logging level use sc.setLogLevel(newLevel). For SparkR, use setLogLevel(newLevel).\n"
     ]
    }
   ],
   "source": [
    "from pyspark.sql import SparkSession\n",
    "spark = SparkSession.builder.getOrCreate()\n",
    "sc=spark.sparkContext"
   ]
  },
  {
   "cell_type": "code",
   "execution_count": 3,
   "metadata": {},
   "outputs": [],
   "source": [
    "input_text=sc.textFile('/home/pavan-linux/Pig-Problems/HadoopInfo')"
   ]
  },
  {
   "cell_type": "code",
   "execution_count": 4,
   "metadata": {},
   "outputs": [
    {
     "name": "stderr",
     "output_type": "stream",
     "text": []
    },
    {
     "data": {
      "text/plain": [
       "['The Apache Hadoop software library is a framework that allows for the distributed processing of large data sets across clusters of computers using simple programming models',\n",
       " 'It is designed to scale up from single servers to thousands of machines each offering local computation and storage',\n",
       " 'Hadoop enables the company to do just that with its data storage needs',\n",
       " 'It uses a storage system wherein the data is stored on a distributed file system',\n",
       " 'Since the tools used for the processing of data are located on same servers as the data',\n",
       " 'the processing operation is also carried out at a faster rate']"
      ]
     },
     "execution_count": 4,
     "metadata": {},
     "output_type": "execute_result"
    }
   ],
   "source": [
    "input_text.collect()"
   ]
  },
  {
   "cell_type": "code",
   "execution_count": 5,
   "metadata": {},
   "outputs": [],
   "source": [
    "text_count=input_text.flatMap(lambda x:x.split(' ')) \\\n",
    "                        .map(lambda x : (x,1)) \\\n",
    "                        .reduceByKey(lambda x,y :x+y)"
   ]
  },
  {
   "cell_type": "code",
   "execution_count": 6,
   "metadata": {},
   "outputs": [
    {
     "name": "stderr",
     "output_type": "stream",
     "text": []
    },
    {
     "data": {
      "text/plain": [
       "[('The', 1),\n",
       " ('Apache', 1),\n",
       " ('library', 1),\n",
       " ('is', 4),\n",
       " ('framework', 1),\n",
       " ('of', 4),\n",
       " ('large', 1),\n",
       " ('sets', 1),\n",
       " ('clusters', 1),\n",
       " ('computers', 1),\n",
       " ('using', 1),\n",
       " ('simple', 1),\n",
       " ('programming', 1),\n",
       " ('It', 2),\n",
       " ('designed', 1),\n",
       " ('single', 1),\n",
       " ('servers', 2),\n",
       " ('offering', 1),\n",
       " ('computation', 1),\n",
       " ('storage', 3),\n",
       " ('do', 1),\n",
       " ('just', 1),\n",
       " ('needs', 1),\n",
       " ('uses', 1),\n",
       " ('stored', 1),\n",
       " ('Since', 1),\n",
       " ('tools', 1),\n",
       " ('used', 1),\n",
       " ('are', 1),\n",
       " ('as', 1),\n",
       " ('carried', 1),\n",
       " ('out', 1),\n",
       " ('at', 1),\n",
       " ('rate', 1),\n",
       " ('Hadoop', 2),\n",
       " ('software', 1),\n",
       " ('a', 4),\n",
       " ('that', 2),\n",
       " ('allows', 1),\n",
       " ('for', 2),\n",
       " ('the', 7),\n",
       " ('distributed', 2),\n",
       " ('processing', 3),\n",
       " ('data', 5),\n",
       " ('across', 1),\n",
       " ('models', 1),\n",
       " ('to', 3),\n",
       " ('scale', 1),\n",
       " ('up', 1),\n",
       " ('from', 1),\n",
       " ('thousands', 1),\n",
       " ('machines', 1),\n",
       " ('each', 1),\n",
       " ('local', 1),\n",
       " ('and', 1),\n",
       " ('enables', 1),\n",
       " ('company', 1),\n",
       " ('with', 1),\n",
       " ('its', 1),\n",
       " ('system', 2),\n",
       " ('wherein', 1),\n",
       " ('on', 2),\n",
       " ('file', 1),\n",
       " ('located', 1),\n",
       " ('same', 1),\n",
       " ('operation', 1),\n",
       " ('also', 1),\n",
       " ('faster', 1)]"
      ]
     },
     "execution_count": 6,
     "metadata": {},
     "output_type": "execute_result"
    }
   ],
   "source": [
    "text_count.collect()"
   ]
  }
 ],
 "metadata": {
  "interpreter": {
   "hash": "916dbcbb3f70747c44a77c7bcd40155683ae19c65e1c03b4aa3499c5328201f1"
  },
  "kernelspec": {
   "display_name": "Python 3.8.10 64-bit",
   "language": "python",
   "name": "python3"
  },
  "language_info": {
   "codemirror_mode": {
    "name": "ipython",
    "version": 3
   },
   "file_extension": ".py",
   "mimetype": "text/x-python",
   "name": "python",
   "nbconvert_exporter": "python",
   "pygments_lexer": "ipython3",
   "version": "3.8.10"
  },
  "orig_nbformat": 4
 },
 "nbformat": 4,
 "nbformat_minor": 2
}
